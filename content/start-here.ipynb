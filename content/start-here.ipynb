{
  "metadata": {
    "kernelspec": {
      "name": "python",
      "display_name": "Python (Pyodide)",
      "language": "python"
    },
    "language_info": {
      "codemirror_mode": {
        "name": "python",
        "version": 3
      },
      "file_extension": ".py",
      "mimetype": "text/x-python",
      "name": "python",
      "nbconvert_exporter": "python",
      "pygments_lexer": "ipython3",
      "version": "3.8"
    }
  },
  "nbformat_minor": 5,
  "nbformat": 4,
  "cells": [
    {
      "cell_type": "markdown",
      "source": "# Predicting future demand from SSDA903 returns\n\nThis is a very quick walkthrough of using SSDA903 data to predict future demand for children's services placement. For more detailed documentation and examples \nlook at the main repository:\n\n\nhttps://github.com/SocialFinanceDigitalLabs/csdm-py\n\n",
      "metadata": {},
      "id": "08718d60-e700-4a2b-8b50-71c8f1ee06c0"
    },
    {
      "cell_type": "code",
      "source": "import piplite\nawait piplite.install('/files/csdmpy-0.1.0-py3-none-any.whl')\nawait piplite.install('openpyxl')\nawait piplite.install('tqdm')",
      "metadata": {
        "trusted": true
      },
      "execution_count": null,
      "outputs": [],
      "id": "413e690b-1b7f-4f3f-ae3d-5547400fdcbe"
    },
    {
      "cell_type": "markdown",
      "source": "At this point it is safe to go offline and disable your network access.",
      "metadata": {},
      "id": "6fc22aa2-ffff-43f9-9f83-bf2f09c6040c"
    },
    {
      "cell_type": "code",
      "source": "import pandas as pd\nimport numpy as np\nimport matplotlib.pyplot as pp\nfrom csdmpy import Config, DemandModellingDataContainer, ModelPredictor, PopulationStats, fs_datastore",
      "metadata": {
        "trusted": true
      },
      "execution_count": null,
      "outputs": [],
      "id": "306cd1cd-edc2-438d-9dce-a7b31259f457"
    },
    {
      "cell_type": "markdown",
      "source": "## Configuration\n\nThere code is [configurable](https://github.com/SocialFinanceDigitalLabs/csdm-py/blob/master/docs/configuration.ipynb) in terms of the different levels and categories used for prediction. For this example, we're simply going to use the standard default configuration.",
      "metadata": {},
      "id": "6fc22aa2-e6f4-43f9-9f83-bf2f09c6040c"
    },
    {
      "cell_type": "code",
      "source": "config = Config()\n\nprint(f\"{config.name} - version {config.version}\")",
      "metadata": {
        "trusted": true
      },
      "execution_count": null,
      "outputs": [],
      "id": "872a0138-522f-4c58-9abf-fef657ac240d"
    },
    {
      "cell_type": "markdown",
      "source": "# Load Data \n\nWe need some files to work on. The code includes sample files, although this could also load from a local folder or a networked filesystem using the \n[PyFilesystem2](https://docs.pyfilesystem.org/en/latest/) library.",
      "metadata": {},
      "id": "3b081028-2edc-419b-a3a4-ad37bd876eaf"
    },
    {
      "cell_type": "code",
      "source": "datastore = fs_datastore(\"sample://v1.zip\")\nlist(datastore.files)",
      "metadata": {
        "trusted": true
      },
      "execution_count": null,
      "outputs": [],
      "id": "57c3c672-9143-4ac9-9c3c-a77694d9b2da"
    },
    {
      "cell_type": "markdown",
      "source": "# Merge files and add model-specific fields\n\nWe then need to [shape the data](https://github.com/SocialFinanceDigitalLabs/csdm-py/blob/master/docs/data-container.ipynb)\nin the way we need it for analysing it. This involves merging all the relevant data files, and also using the configuration to group entries in suitable bins for analysis.\n",
      "metadata": {},
      "id": "b688001e-8278-4f65-9f22-84319c9d013a"
    },
    {
      "cell_type": "code",
      "source": "dc = DemandModellingDataContainer(datastore, config)\ndc.enriched_view",
      "metadata": {
        "trusted": true
      },
      "execution_count": null,
      "outputs": [],
      "id": "eb3cf782-a7f0-4f70-9a70-a34a115a4700"
    },
    {
      "cell_type": "markdown",
      "source": "# Calculate model statistics\n\nNext we need to calculate the [data metrics](https://github.com/SocialFinanceDigitalLabs/csdm-py/blob/master/docs/data-analysis.ipynb)\nwe need for running the predictive model. The model is a stock and flow model, so the first steps involve creating daily population counts in each bin (stock) and transitions between bins (flow).  \n",
      "metadata": {},
      "id": "2e916c2b-11db-4e87-9611-c8afa67d3617"
    },
    {
      "cell_type": "code",
      "source": "stats = PopulationStats(dc.enriched_view, config)\ndisplay(stats.stock)\ndisplay(stats.transitions)",
      "metadata": {
        "trusted": true
      },
      "execution_count": null,
      "outputs": [],
      "id": "2ed6c8b6-877f-4796-810b-8b805ad740b8"
    },
    {
      "cell_type": "markdown",
      "source": "We can plot these to see how ",
      "metadata": {},
      "id": "d93703c9-dc0d-4ee4-847b-7c59906e96ee"
    },
    {
      "cell_type": "code",
      "source": "stats.stock.groupby('placement_type', axis=1).sum().plot()\npp.show()",
      "metadata": {
        "trusted": true
      },
      "execution_count": null,
      "outputs": [],
      "id": "75d9729c-e804-4012-86ce-180efd5d1dd2"
    },
    {
      "cell_type": "markdown",
      "source": "Plotting the transitions are not quite as interesting, but it gives a feeling for how many individual moves there are. ",
      "metadata": {},
      "id": "c3ceead4-6674-4eeb-a9b9-7cce3a8e94e2"
    },
    {
      "cell_type": "code",
      "source": "stats.transitions.groupby('placement_type', axis=1).sum().cumsum().plot()",
      "metadata": {
        "trusted": true
      },
      "execution_count": null,
      "outputs": [],
      "id": "7eaa1f1a-f459-4e5e-9fd6-4f1ed65e50fd"
    },
    {
      "cell_type": "markdown",
      "source": "These are the overall trends, but we want to look at the behaviour over a smaller part of the dataset and use this to predict future behaviour. For this we need to set some dates. \n\nSo let's look at the data from 2019 and see if we can use that to predict behaviour going forward (showing only for one age group here to simplify):",
      "metadata": {},
      "id": "5176af2a-e37d-4833-8ba7-0ccf03480c33"
    },
    {
      "cell_type": "code",
      "source": "# Dates we use for window (you can try different values for these)\nstart_date, end_date = pd.to_datetime('2019-01-01'), pd.to_datetime('2019-12-31')\n\n# Plot population for the 10 to 16 age bracket.\nstats.stock[[config.AgeBrackets.TEN_TO_SIXTEEN]].plot()\n\n# Plot the 'calculation window'\npp.axvline(end_date, alpha=0.4)\npp.axvspan(start_date, end_date, alpha=0.1)\npp.show()",
      "metadata": {
        "trusted": true
      },
      "execution_count": null,
      "outputs": [],
      "id": "f14d0131-eb4c-4d76-9ecb-a9601c70c1f5"
    },
    {
      "cell_type": "markdown",
      "source": "We can use this window to look at the probability of a child to move from one placement to another over that period:",
      "metadata": {},
      "id": "50d9590e-b6a0-4068-8b77-d97c194594f6"
    },
    {
      "cell_type": "code",
      "source": "stats.transition_rates(start_date, end_date)[config.AgeBrackets.TEN_TO_SIXTEEN]",
      "metadata": {
        "trusted": true
      },
      "execution_count": null,
      "outputs": [],
      "id": "fb5cd11c-2cf1-4bbd-861a-aaced25bfcfc"
    },
    {
      "cell_type": "markdown",
      "source": "We also have to consider new individuals entering care over this period",
      "metadata": {},
      "id": "107da69f-5d14-43c4-960b-f26e48b0cd0e"
    },
    {
      "cell_type": "code",
      "source": "stats.daily_entrants(start_date, end_date)[config.AgeBrackets.TEN_TO_SIXTEEN]",
      "metadata": {
        "trusted": true
      },
      "execution_count": null,
      "outputs": [],
      "id": "a51f9152-cc3a-4aff-9239-3e39ce866780"
    },
    {
      "cell_type": "markdown",
      "source": "# Prediction\n\nNow those rates, plus a few other factors such as the probability of moving into the next age bracket, is all we need to take a daily population and \n[predict](https://github.com/SocialFinanceDigitalLabs/csdm-py/blob/master/docs/predict.ipynb) \nwhat the next timestep will look like. We can create a \"predictor\" directly from the stats object:",
      "metadata": {},
      "id": "59c0d51e-7e30-460e-9a6d-235c7551935a"
    },
    {
      "cell_type": "code",
      "source": "predictor = ModelPredictor.from_model(stats, start_date, end_date)",
      "metadata": {
        "trusted": true
      },
      "execution_count": null,
      "outputs": [],
      "id": "3df284c0-c1bc-42b2-8316-08c170629411"
    },
    {
      "cell_type": "markdown",
      "source": "The predictor has an \"initial population\" used to calculate the future state. ",
      "metadata": {},
      "id": "51974768-6901-470e-ac59-3e4513365c80"
    },
    {
      "cell_type": "code",
      "source": "predictor.initial_population",
      "metadata": {
        "trusted": true
      },
      "execution_count": null,
      "outputs": [],
      "id": "0539bfc6-bc4d-4c2f-9937-330eeaeaa158"
    },
    {
      "cell_type": "markdown",
      "source": "We can now ask for the next population:",
      "metadata": {},
      "id": "061492d7-0e61-4b9c-a84a-18dca4aff668"
    },
    {
      "cell_type": "code",
      "source": "predictor = predictor.next()\npredictor.initial_population",
      "metadata": {
        "trusted": true
      },
      "execution_count": null,
      "outputs": [],
      "id": "6d1aeffc-e53f-4ac4-b533-baf131fffe48"
    },
    {
      "cell_type": "markdown",
      "source": "You can run the above block multiple times to see the population change. To reset, go back and create a new predictor from the initial state. \n\nSince we usually want to run multiple iterations in one simple operations, there is also a utility method on the predictor to run *n* generations and return a dataframe of all the populations. You can add progress=True to get a progress bar so you have something to enjoy watching while you make a cup of tea...",
      "metadata": {},
      "id": "a1243b99-fbc1-411c-b8c8-70a1d7a34ae8"
    },
    {
      "cell_type": "code",
      "source": "predictor = ModelPredictor.from_model(stats, start_date, end_date)\npredicted_pop = predictor.predict(720, progress=True)  # Predict 720 days forward\npredicted_pop",
      "metadata": {
        "trusted": true
      },
      "execution_count": null,
      "outputs": [],
      "id": "89f9b22d-2429-4683-b29e-380fd5b68ada"
    },
    {
      "cell_type": "markdown",
      "source": "We can plot all the data",
      "metadata": {},
      "id": "bdaaa660"
    },
    {
      "cell_type": "code",
      "source": "stock, predicted_pop = stats.stock.align(predicted_pop, axis=1)\n\n# Plot original data\nax = stock[[config.AgeBrackets.TEN_TO_SIXTEEN]].plot(legend=True)\n\n# Reset colours and plot predictions\npp.gca().set_prop_cycle(None)\npredicted_pop[[config.AgeBrackets.TEN_TO_SIXTEEN]].plot(ax=ax, linestyle='dashed', legend=False)\n\n# Plot window\npp.axvline(end_date, alpha=0.4)\npp.axvspan(start_date, end_date, alpha=0.1)\npp.show()",
      "metadata": {
        "trusted": true
      },
      "execution_count": null,
      "outputs": [],
      "id": "515f45d0-7b1f-4d4a-a947-86c58b04e203"
    },
    {
      "cell_type": "markdown",
      "source": "## Loading your own data\n\nIf you now feel ready to try with your own data, you can upload your own files. The simplest way is to create a zip file with a set of SSDA903 header and episodes CSV files. Please create a separate folder for each year, so you get a structure that looks like:\n\nmydata.zip\n  * 2019\n    * header.csv\n    * episodes.csv\n  * 2020\n    * header.csv\n    * episodes.csv\n  * 2021\n    * header.csv\n    * episodes.csv\n    \nYou can then drag and drop that file into the sidebar of this page - this will not upload anything and you can even do this while disconnected from the internet.\n\nIf the following line works, then you can go back up to the section named **Merge files and add model-specific fields** and run from there with your own data.",
      "metadata": {},
      "id": "f7a6bfc6-4ec7-438d-8f69-8b7597ccace2"
    },
    {
      "cell_type": "code",
      "source": "datastore = fs_datastore(\"mydata.zip\")\nlist(datastore.files)",
      "metadata": {
        "trusted": true
      },
      "execution_count": null,
      "outputs": [],
      "id": "0a86c92f-767d-484d-9d36-f4a845e65f3e"
    },
    {
      "cell_type": "markdown",
      "source": "## Exporting your stats\n\nYou can also export your stats and predictions",
      "metadata": {},
      "id": "e6755325-b2ce-439b-9956-6c3ccfac930d"
    },
    {
      "cell_type": "code",
      "source": "dc = DemandModellingDataContainer(datastore, config)\nstats = PopulationStats(dc.enriched_view, config)\nstats.to_excel(\"analysis.xlsx\", start_date, end_date)",
      "metadata": {
        "trusted": true
      },
      "execution_count": null,
      "outputs": [],
      "id": "fa45e492-71fa-4358-b1f1-fcc4dbcc0b95"
    }
  ]
}
